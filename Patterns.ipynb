{
  "nbformat": 4,
  "nbformat_minor": 0,
  "metadata": {
    "colab": {
      "provenance": [],
      "authorship_tag": "ABX9TyONaPWb8BgmS5q7dwiA+Cae",
      "include_colab_link": true
    },
    "kernelspec": {
      "name": "python3",
      "display_name": "Python 3"
    },
    "language_info": {
      "name": "python"
    }
  },
  "cells": [
    {
      "cell_type": "markdown",
      "metadata": {
        "id": "view-in-github",
        "colab_type": "text"
      },
      "source": [
        "<a href=\"https://colab.research.google.com/github/ORACHPAULFRANCIS/Personal-Practice-Projects/blob/main/Patterns.ipynb\" target=\"_parent\"><img src=\"https://colab.research.google.com/assets/colab-badge.svg\" alt=\"Open In Colab\"/></a>"
      ]
    },
    {
      "cell_type": "code",
      "execution_count": 16,
      "metadata": {
        "colab": {
          "base_uri": "https://localhost:8080/"
        },
        "id": "1IOp8nNVQw8u",
        "outputId": "00fc3c51-76fc-4d51-867e-5c38da3c346b"
      },
      "outputs": [
        {
          "output_type": "stream",
          "name": "stdout",
          "text": [
            "       1\n",
            "     2 3\n",
            "   4 5 6\n",
            "7 8 9 10\n",
            "      1 \n",
            "    2 3 \n",
            "  4 5 6 \n",
            "7 8 9 10 \n",
            "       1 \n",
            "     2  3 \n",
            "   4  5  6 \n",
            " 7  8  9 10 \n",
            "       1 \n",
            "     2  3 \n",
            "   4  5  6 \n",
            " 7  8  9 10 \n",
            "  7 8 9 10\n",
            "     4 5 6\n",
            "       2 3\n",
            "         1\n"
          ]
        }
      ],
      "source": [
        "\"\"\" I am trying to create a pattern that looks like this\n",
        "       1\n",
        "     2 3\n",
        "   4 5 6\n",
        "7 8 9 10\"\"\"\n",
        "# This is my attempt at learning patterns in Python\n",
        "# First, I am going to use several lines of print\n",
        "\n",
        "print('       1')\n",
        "print('     2 3')\n",
        "print('   4 5 6')\n",
        "print('7 8 9 10')\n",
        "\n",
        "#Then, I am going to use a for loop to print the pattern\n",
        "\n",
        "n = 1\n",
        "for i in range(4):\n",
        "    print((3 - i) * '  ', end='')  # leading spaces\n",
        "    for j in range(i + 1):\n",
        "        print(n, end=' ')\n",
        "        n += 1\n",
        "    print()\n",
        "\n",
        "# Now let me align without worrying about spaces manually\n",
        "\n",
        "n = 1\n",
        "for i in range(4):\n",
        "    print('  ' * (3 - i), end='')  # leading spaces\n",
        "    for j in range(i + 1):\n",
        "        print(str(n).rjust(2), end=' ')  # adjust width to 2\n",
        "        n += 1\n",
        "    print()\n",
        "\n",
        "# Here is another way I could do the same thing above, I mean align automatically\n",
        "\n",
        "n = 1\n",
        "for i in range(4):\n",
        "    print('  ' * (3 - i), end='')  # leading spaces\n",
        "    for j in range(i + 1):\n",
        "        print(f\"{n:>2}\", end=' ')  # right-align in 2 spaces\n",
        "        n += 1\n",
        "    print()\n",
        "\n",
        "\n",
        "# I am making an attempt at reversing the order of the lines printed\n",
        "# I am going to store each line as a string in a list and then\n",
        "# I'll reverse the list of strings before printing\n",
        "\n",
        "n = 1\n",
        "lines = [] # Initialize an empty list to store each line of the pattern\n",
        "\n",
        "for i in range(4):\n",
        "    line = '  ' * (3 - i) # Start building the line with leading spaces\n",
        "    for j in range(i + 1):\n",
        "        line += str(n) + ' ' # Add the number and a space to the line\n",
        "        n += 1\n",
        "    lines.append(line.strip().rjust(10))  # 10 is the width to right-align) # Add the completed line to the list, removing trailing space\n",
        "\n",
        "# Now, reverse the list of lines\n",
        "lines.reverse()\n",
        "\n",
        "# Finally, print each line in the reversed order\n",
        "for line in lines:\n",
        "    print(line)\n",
        "\n",
        "# At the end, I am not very much satisfied with how\n",
        "# neat some of my outputs should have been and I\n",
        "# would appreciate any advice around it\"\"\"\n"
      ]
    }
  ]
}