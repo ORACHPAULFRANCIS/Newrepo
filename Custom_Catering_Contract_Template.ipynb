{
  "nbformat": 4,
  "nbformat_minor": 0,
  "metadata": {
    "colab": {
      "provenance": [],
      "authorship_tag": "ABX9TyNqXGkeoxRQtljUM1zjNVcz",
      "include_colab_link": true
    },
    "kernelspec": {
      "name": "python3",
      "display_name": "Python 3"
    },
    "language_info": {
      "name": "python"
    }
  },
  "cells": [
    {
      "cell_type": "markdown",
      "metadata": {
        "id": "view-in-github",
        "colab_type": "text"
      },
      "source": [
        "<a href=\"https://colab.research.google.com/github/ORACHPAULFRANCIS/Personal-Practice-Projects/blob/main/Custom_Catering_Contract_Template.ipynb\" target=\"_parent\"><img src=\"https://colab.research.google.com/assets/colab-badge.svg\" alt=\"Open In Colab\"/></a>"
      ]
    },
    {
      "cell_type": "code",
      "execution_count": null,
      "metadata": {
        "id": "nyvJDDEh5y2w"
      },
      "outputs": [],
      "source": [
        "# Gather information\n",
        "client_name = input(\"Enter the client's full name: \")\n",
        "my_company = input(\"Enter company name: \")\n",
        "event_type = input(\"Enter the type of event (e.g., wedding, birthday, corporate): \")\n",
        "guest_count = input(\"Enter the number of guests: \")\n",
        "menu_choice = input(\"Enter the chosen menu option (e.g., buffet, plated, vegan): \")\n",
        "event_date = input(\"Enter the date of the event (e.g., July 15, 2025): \")\n",
        "\n",
        "# Create the contract\n",
        "contract = (\n",
        "    \"CATERING SERVICE AGREEMENT\\n\"\n",
        "    \"---------------------------\\n\"\n",
        "    \"Client: \" + client_name + \"\\n\"\n",
        "    \"Company: \" + my_company + \"\\n\"\n",
        "    \"Event Type: \" + event_type + \"\\n\"\n",
        "    \"Event Date: \" + event_date + \"\\n\"\n",
        "    \"Number of Guests: \" + guest_count + \"\\n\"\n",
        "    \"Menu Option: \" + menu_choice + \"\\n\\n\"\n",
        "    \"This agreement confirms that \" + my_company + \" + will provide catering services \"\n",
        "    \"for the above-mentioned event. Services will include preparation,\" +\n",
        "    \"delivery, and service of the \"\n",
        "    + menu_choice + \" menu to \" + guest_count + \" guests on \" + event_date + \".\\n\\n\"\n",
        "    \"Client agrees to the terms and will be invoiced accordingly.\\n\\n\"\n",
        "    \"Sincerely,\\n\"\n",
        "    \" + my_company + \"\n",
        ")\n",
        "\n",
        "# Print the contract\n",
        "print(\"\\nHere is your custom catering contract:\\n\")\n",
        "print(contract)\n"
      ]
    }
  ]
}