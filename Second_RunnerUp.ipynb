{
 "cells": [
  {
   "cell_type": "code",
   "execution_count": null,
   "id": "8bf6ffd6",
   "metadata": {},
   "outputs": [
    {
     "name": "stdout",
     "output_type": "stream",
     "text": [
      "5\n"
     ]
    }
   ],
   "source": [
    "\"\"\"Given the participants' score sheet for your University Sports \n",
    "Day, you are required to find the runner-up score. \n",
    "You are given n scores. Store them in a list and find the score of the runner-up. \n",
    "Input Format\n",
    "The first line contains n . The second line contains an \n",
    "array A[]  of n integers each separated by a space. \"\"\"\n",
    "\n",
    "\n",
    "if __name__ == '__main__':\n",
    "    # For command line execution, uncomment the following lines:\n",
    "    # n = int(input())\n",
    "    # arr = list(map(int, input().split()))\n",
    "    # For Jupyter Notebook, directly assign test values\n",
    "    n = 5  # Example: number of participants\n",
    "    arr = [2, 3, 6, 6, 5]  # Example: list of scores\n",
    "\n",
    "    # Remove duplicates using set\n",
    "    unique_scores = list(set(arr))\n",
    "\n",
    "    # Sort in descending order\n",
    "    unique_scores.sort(reverse=True)\n",
    "\n",
    "    # Print second highest\n",
    "    print(unique_scores[1])\n"
   ]
  }
 ],
 "metadata": {
  "kernelspec": {
   "display_name": "Python 3",
   "language": "python",
   "name": "python3"
  },
  "language_info": {
   "codemirror_mode": {
    "name": "ipython",
    "version": 3
   },
   "file_extension": ".py",
   "mimetype": "text/x-python",
   "name": "python",
   "nbconvert_exporter": "python",
   "pygments_lexer": "ipython3",
   "version": "3.13.2"
  }
 },
 "nbformat": 4,
 "nbformat_minor": 5
}
