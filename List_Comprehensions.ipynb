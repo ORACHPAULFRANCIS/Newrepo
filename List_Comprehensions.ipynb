{
  "nbformat": 4,
  "nbformat_minor": 0,
  "metadata": {
    "colab": {
      "provenance": [],
      "authorship_tag": "ABX9TyPF8XRZyDWGmL84GMlpUccX",
      "include_colab_link": true
    },
    "kernelspec": {
      "name": "python3",
      "display_name": "Python 3"
    },
    "language_info": {
      "name": "python"
    }
  },
  "cells": [
    {
      "cell_type": "markdown",
      "metadata": {
        "id": "view-in-github",
        "colab_type": "text"
      },
      "source": [
        "<a href=\"https://colab.research.google.com/github/ORACHPAULFRANCIS/Personal-Practice-Projects/blob/main/List_Comprehensions.ipynb\" target=\"_parent\"><img src=\"https://colab.research.google.com/assets/colab-badge.svg\" alt=\"Open In Colab\"/></a>"
      ]
    },
    {
      "cell_type": "code",
      "execution_count": 3,
      "metadata": {
        "colab": {
          "base_uri": "https://localhost:8080/"
        },
        "id": "hYcxdqyZtXcH",
        "outputId": "dfb836e3-c0cb-4124-d2eb-7669fd4304ff"
      },
      "outputs": [
        {
          "output_type": "stream",
          "name": "stdout",
          "text": [
            "2\n",
            "1\n",
            "1\n",
            "3\n",
            "[[1, 1, 1], [2, 0, 1], [2, 1, 0]]\n"
          ]
        }
      ],
      "source": [
        "# Here I had just learnt about list comprehensions from\n",
        "# HackerRank and I am trying to practice what I learnt.\n",
        "\n",
        "\"\"\" I have three three integers x, y and z representing\n",
        "the dimensions of a cuboid along with an integer n .\n",
        "I want to print a list of all possible coordinates given by i, j, k\n",
        "on a 3D grid where the sum of i + j + k  is equal to n .\n",
        "Here, 0 <= i <= x, 0 <= j <= y, 0 <= k <= z . For example: x = 2, y = 1, z = 1, n = 3 \"\"\"\n",
        "\n",
        "\n",
        "x = int(input())\n",
        "y = int(input())\n",
        "z = int(input())\n",
        "n = int(input())\n",
        "\n",
        "# print([[i, j, k] for i in range(x + 1) for j in range(y + 1) for k in range(z + 1) if i + j + k = n])\n",
        "\n",
        "coordinates = [[i, j, k]\n",
        "              for i in range(x + 1)\n",
        "              for j in range(y + 1)\n",
        "              for k in range(z + 1)\n",
        "              if i + j + k == n]\n",
        "print(coordinates)"
      ]
    }
  ]
}