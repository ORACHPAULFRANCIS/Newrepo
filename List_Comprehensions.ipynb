{
  "nbformat": 4,
  "nbformat_minor": 0,
  "metadata": {
    "colab": {
      "provenance": [],
      "authorship_tag": "ABX9TyNwzt9cp0Am08OoWambA6nS",
      "include_colab_link": true
    },
    "kernelspec": {
      "name": "python3",
      "display_name": "Python 3"
    },
    "language_info": {
      "name": "python"
    }
  },
  "cells": [
    {
      "cell_type": "markdown",
      "metadata": {
        "id": "view-in-github",
        "colab_type": "text"
      },
      "source": [
        "<a href=\"https://colab.research.google.com/github/ORACHPAULFRANCIS/Personal-Practice-Projects/blob/main/List_Comprehensions.ipynb\" target=\"_parent\"><img src=\"https://colab.research.google.com/assets/colab-badge.svg\" alt=\"Open In Colab\"/></a>"
      ]
    },
    {
      "cell_type": "code",
      "execution_count": 1,
      "metadata": {
        "colab": {
          "base_uri": "https://localhost:8080/"
        },
        "id": "hYcxdqyZtXcH",
        "outputId": "9672c0f5-0832-4252-f7d1-1643edddb21c"
      },
      "outputs": [
        {
          "output_type": "stream",
          "name": "stdout",
          "text": [
            "[[0, 3, 2], [1, 2, 2], [1, 3, 1], [2, 1, 2], [2, 2, 1], [2, 3, 0]]\n"
          ]
        }
      ],
      "source": [
        "# Here I had just learnt about list comprehensions from\n",
        "# HackerRank and I am trying to practice what I learnt.\n",
        "\n",
        "\"\"\" I have three three integers x, y and z representing\n",
        "the dimensions of a cuboid along with an integer n .\n",
        "I want to print a list of all possible coordinates given by i, j, k\n",
        "on a 3D grid where the sum of i + j + k  is equal to n .\n",
        "Here, 0 <= i <= x, 0 <= j <= y, 0 <= k <= z . For example: x = 2, y = 1, z = 1, n = 3 \"\"\"\n",
        "\n",
        "# For command line execution, uncomment the following lines of code\n",
        "# x = int(input())\n",
        "# y = int(input())\n",
        "# z = int(input())\n",
        "# n = int(input())\n",
        "\n",
        "x = 2\n",
        "y = 3\n",
        "z = 2\n",
        "n = 5\n",
        "\n",
        "# print([[i, j, k] for i in range(x + 1) for j in range(y + 1) for k in range(z + 1) if i + j + k = n])\n",
        "\n",
        "coordinates = [[i, j, k]\n",
        "              for i in range(x + 1)\n",
        "              for j in range(y + 1)\n",
        "              for k in range(z + 1)\n",
        "              if i + j + k == n]\n",
        "print(coordinates)"
      ]
    }
  ]
}