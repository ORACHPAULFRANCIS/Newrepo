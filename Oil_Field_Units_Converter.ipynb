{
  "nbformat": 4,
  "nbformat_minor": 0,
  "metadata": {
    "colab": {
      "provenance": [],
      "authorship_tag": "ABX9TyNxfbTyZ2TlmO4YG9G6YXjm",
      "include_colab_link": true
    },
    "kernelspec": {
      "name": "python3",
      "display_name": "Python 3"
    },
    "language_info": {
      "name": "python"
    }
  },
  "cells": [
    {
      "cell_type": "markdown",
      "metadata": {
        "id": "view-in-github",
        "colab_type": "text"
      },
      "source": [
        "<a href=\"https://colab.research.google.com/github/ORACHPAULFRANCIS/Newrepo/blob/main/Oil_Field_Units_Converter.ipynb\" target=\"_parent\"><img src=\"https://colab.research.google.com/assets/colab-badge.svg\" alt=\"Open In Colab\"/></a>"
      ]
    },
    {
      "cell_type": "code",
      "execution_count": null,
      "metadata": {
        "colab": {
          "base_uri": "https://localhost:8080/"
        },
        "id": "C_Fm-Qcbo1kd",
        "outputId": "321dc7f8-e922-48fc-f96c-b5a434b08295"
      },
      "outputs": [
        {
          "output_type": "stream",
          "name": "stdout",
          "text": [
            "\n",
            "--- Oilfield Units Converter ---\n",
            "1. Convert Pressure (psi to Pa)\n",
            "2. Convert Temperature (F to C)\n",
            "3. Convert Volume (bbl to L)\n",
            "4. Convert Length (ft to m)\n",
            "5. Exit\n",
            "Enter your choice (1-5): 6\n",
            "Invalid choice. Please try again.\n",
            "\n",
            "--- Oilfield Unit Converter ---\n",
            "1. Convert Pressure (psi to Pa)\n",
            "2. Convert Temperature (F to C)\n",
            "3. Convert Volume (bbl to L)\n",
            "4. Convert Length (ft to m)\n",
            "5. Exit\n",
            "Enter your choice (1-5): 5\n",
            "Goodbye!\n",
            "\n",
            "--- Oilfield Unit Converter ---\n",
            "1. Convert Pressure (psi to Pa)\n",
            "2. Convert Temperature (F to C)\n",
            "3. Convert Volume (bbl to L)\n",
            "4. Convert Length (ft to m)\n",
            "5. Exit\n",
            "Enter your choice (1-5): 4\n",
            "Enter length in feet: 567\n",
            "567.0 ft = 172.82 m\n",
            "\n",
            "--- Oilfield Unit Converter ---\n",
            "1. Convert Pressure (psi to Pa)\n",
            "2. Convert Temperature (F to C)\n",
            "3. Convert Volume (bbl to L)\n",
            "4. Convert Length (ft to m)\n",
            "5. Exit\n"
          ]
        }
      ],
      "source": [
        "# Oilfield Unit Converter\n",
        "\"\"\"This script provides a simple command-line interface for\n",
        "converting various oilfield units.\"\"\"\n",
        "\"\"\"I want to work with like minded individuals\n",
        "to perfect this program even though it is merely for\n",
        "praticing and mastering the skills of programming\"\"\"\n",
        "\"\"\"Fill free to share ideas with me, I want to\n",
        "have a converter that can convert several\n",
        "parameters and not just in one direction but both ways\"\"\"\n",
        "\"\"\"I have initially started with four parameters only as you'll see below\"\"\"\n",
        "# Function to convert pressure from psi to bar\n",
        "\n",
        "def convert_pressure():\n",
        "    psi = float(input(\"Enter pressure in psi: \"))\n",
        "    pascal = psi * 6894.76\n",
        "    print(f\"{psi} psi = {pascal:.2f} Pa\")\n",
        "\n",
        "# Function to convert temperature from Fahrenheit to Celsius\n",
        "\n",
        "def convert_temperature():\n",
        "    fahrenheit = float(input(\"Enter temperature in Fahrenheit: \"))\n",
        "    celsius = (fahrenheit - 32) * 5/9\n",
        "    print(f\"{fahrenheit}°F = {celsius:.2f}°C\")\n",
        "\n",
        "# Function to convert volume from barrels to liters\n",
        "\n",
        "def convert_volume():\n",
        "    barrels = float(input(\"Enter volume in barrels: \"))\n",
        "    liters = barrels * 158.987\n",
        "    print(f\"{barrels} bbl = {liters:.2f} L\")\n",
        "\n",
        "# Function to convert length from feet to meters\n",
        "\n",
        "def convert_length():\n",
        "    feet = float(input(\"Enter length in feet: \"))\n",
        "    meters = feet * 0.3048\n",
        "    print(f\"{feet} ft = {meters:.2f} m\")\n",
        "\n",
        "# Function to display the menu and handle user input\n",
        "\n",
        "def show_menu():\n",
        "    print(\"\\n--- Oilfield Unit Converter ---\")\n",
        "    print(\"1. Convert Pressure (psi to Pa)\")\n",
        "    print(\"2. Convert Temperature (F to C)\")\n",
        "    print(\"3. Convert Volume (bbl to L)\")\n",
        "    print(\"4. Convert Length (ft to m)\")\n",
        "    print(\"5. Exit\")\n",
        "\n",
        "# Main function to run the converter\n",
        "\n",
        "def main():\n",
        "    while True:\n",
        "        show_menu()\n",
        "        choice = input(\"Enter your choice (1-5): \")\n",
        "\n",
        "        if choice == '1':\n",
        "            convert_pressure()\n",
        "        elif choice == '2':\n",
        "            convert_temperature()\n",
        "        elif choice == '3':\n",
        "            convert_volume()\n",
        "        elif choice == '4':\n",
        "            convert_length()\n",
        "        elif choice == '5':\n",
        "            print(\"Goodbye!\")\n",
        "        else:\n",
        "            print(\"Invalid choice. Please try again.\")\n",
        "\n",
        "if __name__ == \"__main__\":\n",
        "    main()\n",
        "\"\"\"This script provides a simple command-line\n",
        "interface for converting various oilfield units.\"\"\"\n",
        "# It includes functions to convert pressure, temperature, volume, and length.\n",
        "# The user can select the conversion type and input the value to be converted."
      ]
    }
  ]
}
