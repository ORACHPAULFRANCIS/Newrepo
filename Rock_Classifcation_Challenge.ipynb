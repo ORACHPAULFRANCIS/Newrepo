{
  "nbformat": 4,
  "nbformat_minor": 0,
  "metadata": {
    "colab": {
      "provenance": [],
      "authorship_tag": "ABX9TyPEHedW4hWcYpV4ncAxOs42",
      "include_colab_link": true
    },
    "kernelspec": {
      "name": "python3",
      "display_name": "Python 3"
    },
    "language_info": {
      "name": "python"
    }
  },
  "cells": [
    {
      "cell_type": "markdown",
      "metadata": {
        "id": "view-in-github",
        "colab_type": "text"
      },
      "source": [
        "<a href=\"https://colab.research.google.com/github/ORACHPAULFRANCIS/Newrepo/blob/main/Rock_Classifcation_Challenge.ipynb\" target=\"_parent\"><img src=\"https://colab.research.google.com/assets/colab-badge.svg\" alt=\"Open In Colab\"/></a>"
      ]
    },
    {
      "cell_type": "code",
      "source": [
        "\"\"\"This program is meant to classify rocks picked\n",
        "from a beach for purposes of teaching Geology students\"\"\"\n",
        "def classify_sediment(size, shape):\n",
        "    # Determine the sediment type based on size\n",
        "    if size < 0.0625:\n",
        "        sediment_type = \"Clay\"\n",
        "    elif size < 2:\n",
        "        sediment_type = \"Sand\"\n",
        "    elif size < 64:\n",
        "        sediment_type = \"Gravel\"\n",
        "    else:\n",
        "        sediment_type = \"Boulder\"\n",
        "\n",
        "    # Determine weathering status based on shape\n",
        "    if shape.lower() == \"rounded\":\n",
        "        weathering = \"Well-weathered\"\n",
        "    elif shape.lower() == \"angular\":\n",
        "        weathering = \"Freshly-eroded\"\n",
        "    else:\n",
        "        weathering = \"Unknown-shape\"\n",
        "\n",
        "    # Combine and return the classification\n",
        "    return f\"{weathering} {sediment_type}\"\n",
        "\n",
        "# Example usage\n",
        "result = classify_sediment(0.5, \"rounded\")\n",
        "print(result)  # Output: Well-weathered Sand"
      ],
      "metadata": {
        "colab": {
          "base_uri": "https://localhost:8080/"
        },
        "id": "s-iSYS7hl47G",
        "outputId": "781e27a2-b70b-43e3-86b2-d064122097bc"
      },
      "execution_count": 2,
      "outputs": [
        {
          "output_type": "stream",
          "name": "stdout",
          "text": [
            "Well-weathered Sand\n"
          ]
        }
      ]
    }
  ]
}